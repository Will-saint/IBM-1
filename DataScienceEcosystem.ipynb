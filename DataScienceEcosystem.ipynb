{
 "cells": [
  {
   "cell_type": "markdown",
   "id": "e6626e83-3ae4-46ff-ae0b-c73ad42f8847",
   "metadata": {},
   "source": [
    "# Data Science Tools and Ecosystem"
   ]
  },
  {
   "cell_type": "markdown",
   "id": "a6efec3b-174b-4d4c-b3b1-99fc77094f4b",
   "metadata": {},
   "source": [
    "In this notebook, Data Science Tools and Ecosystem are summarized."
   ]
  },
  {
   "cell_type": "markdown",
   "id": "2a56708f-0ea9-4fb4-8dfb-d4d81d6a88db",
   "metadata": {},
   "source": [
    "**Objectives:**  \n",
    "\n",
    "- List popular languages for Data Science  \n",
    "- Identify commonly used libraries in Data Science  \n",
    "- Demonstrate arithmetic operations in Python  \n",
    "- Learn how to create and format Markdown cells  \n",
    "- Convert time units (e.g., minutes to hours) using Python expressions  \n"
   ]
  },
  {
   "cell_type": "markdown",
   "id": "e26384fa-5fa6-4d29-bcef-b2a8b2fde6e3",
   "metadata": {},
   "source": [
    "Some of the popular languages that Data Scientists use are:  \n",
    "\n",
    "1. Python  \n",
    "2. R  \n",
    "3. SQL  \n",
    "4. Julia  \n",
    "5. Scala  "
   ]
  },
  {
   "cell_type": "markdown",
   "id": "c66d42de-36ec-45aa-b6fa-bb7f4fb69675",
   "metadata": {},
   "source": [
    "Some of the commonly used libraries used by Data Scientists include:  \n",
    "\n",
    "1. NumPy  \n",
    "2. Pandas  \n",
    "3. Matplotlib  \n",
    "4. Scikit-learn  \n",
    "5. TensorFlow  \n",
    "6. PyTorch  \n"
   ]
  },
  {
   "cell_type": "markdown",
   "id": "5d4c50c4-5df4-4478-93be-741ef4c9a997",
   "metadata": {},
   "source": [
    "|Data Science Tools   |\n",
    "|---------------------|\n",
    "|jupiter notebook     |\n",
    "|Visual studio        |\n",
    "|Rstudio              |"
   ]
  },
  {
   "cell_type": "markdown",
   "id": "3d84535e-5236-4e1b-91b4-2a7c0c32e838",
   "metadata": {},
   "source": [
    "### Below are a few examples of evaluating arithmetic expressions in Python"
   ]
  },
  {
   "cell_type": "code",
   "execution_count": 4,
   "id": "698c5392-c73c-4716-906b-ac2fc5f8c24c",
   "metadata": {},
   "outputs": [
    {
     "data": {
      "text/plain": [
       "17"
      ]
     },
     "execution_count": 4,
     "metadata": {},
     "output_type": "execute_result"
    }
   ],
   "source": [
    "#his a simple arithmetic expression to mutiply then add integers\n",
    "(3*4)+5"
   ]
  },
  {
   "cell_type": "code",
   "execution_count": 6,
   "id": "4a1bbece-ce8c-4f60-b38b-551585c07374",
   "metadata": {},
   "outputs": [
    {
     "data": {
      "text/plain": [
       "3.3333333333333335"
      ]
     },
     "execution_count": 6,
     "metadata": {},
     "output_type": "execute_result"
    }
   ],
   "source": [
    "# This will convert 200 minutes to hours by dividing by 60\n",
    "minutes = 200\n",
    "hours = minutes / 60\n",
    "hours\n"
   ]
  },
  {
   "cell_type": "markdown",
   "id": "87a1e506-167a-44e1-ab5d-51bf0830f99d",
   "metadata": {},
   "source": [
    "## Author\n",
    "Saint-Dizier William"
   ]
  },
  {
   "cell_type": "code",
   "execution_count": null,
   "id": "b213c48f-1311-4bed-a2cc-87bb0d1ad8ee",
   "metadata": {},
   "outputs": [],
   "source": []
  }
 ],
 "metadata": {
  "kernelspec": {
   "display_name": "Python 3 (ipykernel)",
   "language": "python",
   "name": "python3"
  },
  "language_info": {
   "codemirror_mode": {
    "name": "ipython",
    "version": 3
   },
   "file_extension": ".py",
   "mimetype": "text/x-python",
   "name": "python",
   "nbconvert_exporter": "python",
   "pygments_lexer": "ipython3",
   "version": "3.11.9"
  }
 },
 "nbformat": 4,
 "nbformat_minor": 5
}
